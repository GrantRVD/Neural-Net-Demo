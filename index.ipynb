{
 "cells": [
  {
   "cell_type": "markdown",
   "metadata": {},
   "source": [
    "# Neural Network Demo\n",
    "\n",
    "By Grant R. Vousden-Dishington\n",
    "\n",
    "This notebook is heavily based on two blogs **A Neural Network in 11 lines of Python** ([Part 1](http://iamtrask.github.io/2015/07/12/basic-python-network/) & [Part 2]()) and **Hinton's Droptout in 3 lines of Python**, both by [*@iamtrask*](iamtrask.github.io)"
   ]
  },
  {
   "cell_type": "code",
   "execution_count": 10,
   "metadata": {
    "collapsed": true
   },
   "outputs": [],
   "source": [
    "import numpy as np\n",
    "\n",
    "# Sigmoid function: \"squashes\" numbers into probabilities\n",
    "def nonlin(x, deriv=False):\n",
    "    x = x * (1-x) if deriv else 1 / (1 + np.exp(-x))\n",
    "    return x\n",
    "\n",
    "# Input: 4 training examples, 3-dimensional (4 x 3)\n",
    "nnInput = np.array([\n",
    "        [0, 0, 1],\n",
    "        [0, 1, 1],\n",
    "        [1, 0, 1],\n",
    "        [1, 1, 1]\n",
    "    ])"
   ]
  },
  {
   "cell_type": "markdown",
   "metadata": {},
   "source": [
    "## 2-layer network"
   ]
  },
  {
   "cell_type": "code",
   "execution_count": 11,
   "metadata": {
    "collapsed": false
   },
   "outputs": [
    {
     "name": "stdout",
     "output_type": "stream",
     "text": [
      "Output after training\n",
      "[[ 0.00390254]\n",
      " [ 0.00318154]\n",
      " [ 0.99740413]\n",
      " [ 0.99681544]]\n"
     ]
    }
   ],
   "source": [
    "# Output: expected classifications (4 x 1)\n",
    "nnOutput2 = np.array([[0, 0, 1 ,1]]).T\n",
    "\n",
    "# Initialize weights with mean of 0, seed random generator\n",
    "np.random.seed(261015)\n",
    "syn0 = 2 * np.random.random((3, 1)) - 1  # (3 x 1)\n",
    "\n",
    "# Do full-batch training\n",
    "for i in range(60000):\n",
    "    \n",
    "    # Forward propagation\n",
    "    l0 = nnInput\n",
    "    l1 = nonlin(l0 @ syn0)\n",
    "    \n",
    "    # Error: expected minus predicted (4 x 1)\n",
    "    errl1 = nnOutput2 - l1\n",
    "    \n",
    "    # Calculate delta: the error times slope of the sigmoid at l1 values\n",
    "    deltal1 = errl1 * nonlin(l1, deriv=True)\n",
    "    \n",
    "    # Update weights: matrix multiply the input times the delta values all at once\n",
    "    syn0 += l0.T @ deltal1\n",
    "    \n",
    "print(\"Output after training\")\n",
    "print(l1)"
   ]
  },
  {
   "cell_type": "markdown",
   "metadata": {},
   "source": [
    "## 3-layer network"
   ]
  },
  {
   "cell_type": "code",
   "execution_count": 12,
   "metadata": {
    "collapsed": false
   },
   "outputs": [
    {
     "name": "stdout",
     "output_type": "stream",
     "text": [
      "Error: 0.500646983197\n",
      "Error: 0.0108313939135\n",
      "Error: 0.00721546010071\n",
      "Error: 0.00571646037978\n",
      "Error: 0.00485302997199\n",
      "Error: 0.00427728962702\n"
     ]
    }
   ],
   "source": [
    "# Output: expected classifications (4 x 1)\n",
    "nnOutput3 = np.array([[0, 1, 1 ,0]]).T\n",
    "\n",
    "# Initialize weights with mean of 0, seed random generator\n",
    "np.random.seed(261015)\n",
    "syn0 = 2 * np.random.random((3, 4)) - 1  # (3 x 4)\n",
    "syn1 = 2 * np.random.random((4, 1)) - 1  # (4 x 1)\n",
    "\n",
    "# Do full-batch learning\n",
    "for i in range(60000):\n",
    "    \n",
    "    # Forward Propagation\n",
    "    l0 = nnInput\n",
    "    l1 = nonlin(l0 @ syn0)\n",
    "    l2 = nonlin(l1 @ syn1)\n",
    "    \n",
    "    # Output error: expected minus predicted (4 x 1)\n",
    "    errl2 = nnOutput3 - l2\n",
    "    \n",
    "    # Getting a running view of the error every 10000 steps\n",
    "    if not i % 10000:\n",
    "        print(\"Error: \" + str(np.mean(np.abs(errl2))))\n",
    "        \n",
    "    # Calculate delta for output layer: the error times slope of the sigmoid at l2 values (4 x 1)\n",
    "    deltal2 = errl2 * nonlin(l2, deriv=True)\n",
    "    \n",
    "    # Hidden error: how much hidden layer contributed to output error (4 x 4)\n",
    "    errl1 = deltal2 @ syn1.T\n",
    "    \n",
    "    # Calculate delta for hidden layer: the error times the sigmoid at l2 values (4 x 4)\n",
    "    deltal1 = errl1 * nonlin(l1, deriv=True)\n",
    "    \n",
    "    # Update weights\n",
    "    syn0 += l0.T @ deltal1\n",
    "    syn1 += l1.T @ deltal2"
   ]
  }
 ],
 "metadata": {
  "kernelspec": {
   "display_name": "Python 3.5",
   "language": "python",
   "name": "python3"
  },
  "language_info": {
   "codemirror_mode": {
    "name": "ipython",
    "version": 3
   },
   "file_extension": ".py",
   "mimetype": "text/x-python",
   "name": "python",
   "nbconvert_exporter": "python",
   "pygments_lexer": "ipython3",
   "version": "3.5.0"
  }
 },
 "nbformat": 4,
 "nbformat_minor": 0
}
